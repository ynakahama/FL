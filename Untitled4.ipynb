{
 "cells": [
  {
   "cell_type": "code",
   "execution_count": 3,
   "id": "e379d8ec",
   "metadata": {},
   "outputs": [],
   "source": [
    "import os\n",
    "os.mkdir(\"./non\")"
   ]
  },
  {
   "cell_type": "code",
   "execution_count": 21,
   "id": "97ed656e",
   "metadata": {},
   "outputs": [
    {
     "data": {
      "text/plain": [
       "60258.0"
      ]
     },
     "execution_count": 21,
     "metadata": {},
     "output_type": "execute_result"
    }
   ],
   "source": [
    "sum([5791.0, 7064.0, 3368.0, 6676.0, 5270.0, 6770.0, 5113.0, 5132.0, 5484.0, 9590.0])"
   ]
  },
  {
   "cell_type": "code",
   "execution_count": 22,
   "id": "e7630735",
   "metadata": {},
   "outputs": [
    {
     "data": {
      "text/plain": [
       "89519.0"
      ]
     },
     "execution_count": 22,
     "metadata": {},
     "output_type": "execute_result"
    }
   ],
   "source": [
    "sum([7736.0, 8901.0, 10921.0, 7720.0, 9021.0, 9108.0, 7994.0, 9081.0, 10160.0, 8877.0])"
   ]
  },
  {
   "cell_type": "code",
   "execution_count": null,
   "id": "f2218a6f",
   "metadata": {},
   "outputs": [],
   "source": []
  },
  {
   "cell_type": "code",
   "execution_count": 1,
   "id": "945bde8c",
   "metadata": {},
   "outputs": [],
   "source": [
    "import random"
   ]
  },
  {
   "cell_type": "code",
   "execution_count": 8,
   "id": "b02af524",
   "metadata": {},
   "outputs": [],
   "source": [
    "selected_label = random.sample(range(0,20), 10)\n"
   ]
  },
  {
   "cell_type": "code",
   "execution_count": 9,
   "id": "c90c37f5",
   "metadata": {},
   "outputs": [
    {
     "data": {
      "text/plain": [
       "[13, 7, 1, 11, 9, 12, 18, 0, 15, 14]"
      ]
     },
     "execution_count": 9,
     "metadata": {},
     "output_type": "execute_result"
    }
   ],
   "source": [
    "selected_label"
   ]
  },
  {
   "cell_type": "code",
   "execution_count": null,
   "id": "2126e6c7",
   "metadata": {},
   "outputs": [],
   "source": []
  },
  {
   "cell_type": "code",
   "execution_count": 17,
   "id": "3d145c26",
   "metadata": {},
   "outputs": [],
   "source": [
    "k =[0 for i in range(5) ]"
   ]
  },
  {
   "cell_type": "code",
   "execution_count": 18,
   "id": "fdbaf924",
   "metadata": {},
   "outputs": [
    {
     "data": {
      "text/plain": [
       "[0, 0, 0, 0, 0]"
      ]
     },
     "execution_count": 18,
     "metadata": {},
     "output_type": "execute_result"
    }
   ],
   "source": [
    "k "
   ]
  },
  {
   "cell_type": "code",
   "execution_count": 14,
   "id": "39fad2ba",
   "metadata": {},
   "outputs": [],
   "source": [
    "for i in range(100):\n",
    "    k[random.randint(0,4)]+=1"
   ]
  },
  {
   "cell_type": "code",
   "execution_count": 15,
   "id": "8b96c36a",
   "metadata": {},
   "outputs": [
    {
     "data": {
      "text/plain": [
       "[28, 16, 18, 23, 15]"
      ]
     },
     "execution_count": 15,
     "metadata": {},
     "output_type": "execute_result"
    }
   ],
   "source": [
    "k"
   ]
  },
  {
   "cell_type": "code",
   "execution_count": null,
   "id": "9f9a7fc5",
   "metadata": {},
   "outputs": [],
   "source": []
  },
  {
   "cell_type": "code",
   "execution_count": 11,
   "id": "cef45f62",
   "metadata": {},
   "outputs": [
    {
     "name": "stdout",
     "output_type": "stream",
     "text": [
      "0\n",
      "3\n",
      "1\n",
      "4\n",
      "4\n",
      "0\n",
      "5\n",
      "3\n",
      "2\n",
      "1\n",
      "2\n",
      "5\n",
      "5\n",
      "3\n",
      "5\n",
      "1\n",
      "3\n",
      "0\n",
      "4\n",
      "2\n",
      "1\n",
      "4\n",
      "0\n",
      "1\n",
      "3\n",
      "1\n",
      "2\n",
      "4\n",
      "2\n",
      "3\n",
      "3\n",
      "5\n",
      "4\n",
      "2\n",
      "4\n",
      "0\n",
      "4\n",
      "3\n",
      "5\n",
      "3\n",
      "3\n",
      "1\n",
      "4\n",
      "2\n",
      "2\n",
      "4\n",
      "1\n",
      "2\n",
      "1\n",
      "0\n",
      "5\n",
      "1\n",
      "2\n",
      "4\n",
      "0\n",
      "3\n",
      "3\n",
      "2\n",
      "1\n",
      "5\n",
      "0\n",
      "1\n",
      "4\n",
      "2\n",
      "0\n",
      "1\n",
      "5\n",
      "0\n",
      "1\n",
      "3\n",
      "1\n",
      "4\n",
      "4\n",
      "3\n",
      "0\n",
      "2\n",
      "0\n",
      "4\n",
      "1\n",
      "0\n",
      "0\n",
      "3\n",
      "0\n",
      "1\n",
      "0\n",
      "3\n",
      "1\n",
      "3\n",
      "1\n",
      "5\n",
      "3\n",
      "2\n",
      "3\n",
      "3\n",
      "4\n",
      "1\n",
      "2\n",
      "4\n",
      "4\n",
      "3\n"
     ]
    }
   ],
   "source": [
    "for i in range(100):\n",
    "    print(random.randint(0,5))"
   ]
  },
  {
   "cell_type": "code",
   "execution_count": null,
   "id": "71bad2f4",
   "metadata": {},
   "outputs": [],
   "source": []
  },
  {
   "cell_type": "code",
   "execution_count": null,
   "id": "fe7c5d84",
   "metadata": {},
   "outputs": [],
   "source": []
  },
  {
   "cell_type": "code",
   "execution_count": null,
   "id": "b6612f69",
   "metadata": {},
   "outputs": [],
   "source": []
  },
  {
   "cell_type": "code",
   "execution_count": null,
   "id": "f4bd6e7c",
   "metadata": {},
   "outputs": [],
   "source": []
  }
 ],
 "metadata": {
  "kernelspec": {
   "display_name": "Python 3",
   "language": "python",
   "name": "python3"
  },
  "language_info": {
   "codemirror_mode": {
    "name": "ipython",
    "version": 3
   },
   "file_extension": ".py",
   "mimetype": "text/x-python",
   "name": "python",
   "nbconvert_exporter": "python",
   "pygments_lexer": "ipython3",
   "version": "3.8.8"
  }
 },
 "nbformat": 4,
 "nbformat_minor": 5
}
